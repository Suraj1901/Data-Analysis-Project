{
 "cells": [
  {
   "cell_type": "code",
   "execution_count": null,
   "metadata": {
    "id": "GbkLYAzhuke3"
   },
   "outputs": [],
   "source": [
    "\n",
    "import kagglehub\n",
    "ashydv_housing_dataset_path = kagglehub.dataset_download('ashydv/housing-dataset')\n",
    "\n",
    "print('Data source import complete.')\n"
   ]
  },
  {
   "cell_type": "markdown",
   "metadata": {
    "_uuid": "9d30d8a6045a8b08aba09e2a3230c666bac821f1",
    "id": "7wc34QYWuke4"
   },
   "source": [
    "# Housing Price Prediction Case Study"
   ]
  },
  {
   "cell_type": "markdown",
   "metadata": {
    "_uuid": "99c0c2513327840d9bd303f4e64a899288ddb54c",
    "id": "M91MHAYOuke6"
   },
   "source": [
    "## Multiple Linear Regression\n",
    "\n",
    "### Problem Statement:\n",
    "\n",
    "Consider a real estate company that has a dataset containing the prices of properties in the Delhi region. It wishes to use the data to optimise the sale prices of the properties based on important factors such as area, bedrooms, parking, etc.\n",
    "\n",
    "Essentially, the company wants —\n",
    "\n",
    "\n",
    "- To identify the variables affecting house prices, e.g. area, number of rooms, bathrooms, etc.\n",
    "\n",
    "- To create a linear model that quantitatively relates house prices with variables such as number of rooms, area, number of bathrooms, etc.\n",
    "\n",
    "- To know the accuracy of the model, i.e. how well these variables can predict house prices.\n",
    "\n",
    "### Data\n",
    "Use housing dataset."
   ]
  },
  {
   "cell_type": "markdown",
   "metadata": {
    "_uuid": "3436cb2bcf6466380cf2f43733f98c2112e43087",
    "id": "DS-rpmq6uke8"
   },
   "source": [
    "## Reading and Understanding the Data"
   ]
  },
  {
   "cell_type": "code",
   "execution_count": null,
   "metadata": {
    "_uuid": "431b6c4e49b75ce7b04e909b83906dfd7b858959",
    "id": "491lrFzMuke9"
   },
   "outputs": [],
   "source": [
    "# Supress Warnings\n",
    "\n",
    "import warnings\n",
    "warnings.filterwarnings('ignore')\n",
    "\n",
    "# Import the numpy and pandas package\n",
    "\n",
    "import numpy as np\n",
    "import pandas as pd\n",
    "\n",
    "# Data Visualisation\n",
    "\n",
    "import matplotlib.pyplot as plt\n",
    "import seaborn as sns"
   ]
  },
  {
   "cell_type": "code",
   "execution_count": null,
   "metadata": {
    "_uuid": "746ef6bc4fafc58e8a37083aaece63eb79bc2308",
    "id": "DgdhSPV0uke-"
   },
   "outputs": [],
   "source": [
    "housing = pd.DataFrame(pd.read_csv(\"../input/Housing.csv\"))"
   ]
  },
  {
   "cell_type": "code",
   "execution_count": null,
   "metadata": {
    "_uuid": "d765ad0cca904b30124809f090959c1540dfe729",
    "id": "VUEfirIvuke-"
   },
   "outputs": [],
   "source": [
    "# Check the head of the dataset\n",
    "housing.head()"
   ]
  },
  {
   "cell_type": "markdown",
   "metadata": {
    "_uuid": "97cd7a0c1ebdad167b71d99409ccfe9bbb0fd31f",
    "id": "nhR3cO1Kuke_"
   },
   "source": [
    "## Data Inspection"
   ]
  },
  {
   "cell_type": "code",
   "execution_count": null,
   "metadata": {
    "_uuid": "73b846cde866034ab84bfd5e2e3bb35f638b5ec8",
    "id": "WScTUg3mukfA"
   },
   "outputs": [],
   "source": [
    "housing.shape"
   ]
  },
  {
   "cell_type": "code",
   "execution_count": null,
   "metadata": {
    "_uuid": "e1e2d0a71e1fa5d41dce0562b2d1aae8ed17e041",
    "id": "3K0bfvw_ukfB"
   },
   "outputs": [],
   "source": [
    "housing.info()"
   ]
  },
  {
   "cell_type": "code",
   "execution_count": null,
   "metadata": {
    "_uuid": "68e9fc5700d7192a76f8f0393dc02b6996db0d43",
    "id": "eu3DrJYFukfB",
    "scrolled": true
   },
   "outputs": [],
   "source": [
    "housing.describe()"
   ]
  },
  {
   "cell_type": "markdown",
   "metadata": {
    "_uuid": "0ca4cbb107bdc125987f0b734a1b8834b6d8c0a8",
    "id": "rULl3oXAukfC"
   },
   "source": [
    "## Data Cleaning"
   ]
  },
  {
   "cell_type": "code",
   "execution_count": null,
   "metadata": {
    "_uuid": "3c78f79ff808df88d1ced4e944158375e2836f45",
    "id": "fn_iUbHjukfC"
   },
   "outputs": [],
   "source": [
    "# Checking Null values\n",
    "housing.isnull().sum()*100/housing.shape[0]\n",
    "# There are no NULL values in the dataset, hence it is clean."
   ]
  },
  {
   "cell_type": "code",
   "execution_count": null,
   "metadata": {
    "_uuid": "7ec7bfa83693e04422ea2de1fe2041aa75bccf51",
    "id": "dRPuKl7lukfC"
   },
   "outputs": [],
   "source": [
    "# Outlier Analysis\n",
    "fig, axs = plt.subplots(2,3, figsize = (10,5))\n",
    "plt1 = sns.boxplot(housing['price'], ax = axs[0,0])\n",
    "plt2 = sns.boxplot(housing['area'], ax = axs[0,1])\n",
    "plt3 = sns.boxplot(housing['bedrooms'], ax = axs[0,2])\n",
    "plt1 = sns.boxplot(housing['bathrooms'], ax = axs[1,0])\n",
    "plt2 = sns.boxplot(housing['stories'], ax = axs[1,1])\n",
    "plt3 = sns.boxplot(housing['parking'], ax = axs[1,2])\n",
    "\n",
    "plt.tight_layout()"
   ]
  },
  {
   "cell_type": "code",
   "execution_count": null,
   "metadata": {
    "_uuid": "4fbb9b35301a437698b221905aff7a421f6289b6",
    "id": "uw-eGGowukfD"
   },
   "outputs": [],
   "source": [
    "# Outlier Treatment\n",
    "# Price and area have considerable outliers.\n",
    "# We can drop the outliers as we have sufficient data."
   ]
  },
  {
   "cell_type": "code",
   "execution_count": null,
   "metadata": {
    "_uuid": "4dbc902628f39c3c5671287fb513966ee9946163",
    "id": "g69vDFwcukfD"
   },
   "outputs": [],
   "source": [
    "# outlier treatment for price\n",
    "plt.boxplot(housing.price)\n",
    "Q1 = housing.price.quantile(0.25)\n",
    "Q3 = housing.price.quantile(0.75)\n",
    "IQR = Q3 - Q1\n",
    "housing = housing[(housing.price >= Q1 - 1.5*IQR) & (housing.price <= Q3 + 1.5*IQR)]"
   ]
  },
  {
   "cell_type": "code",
   "execution_count": null,
   "metadata": {
    "_uuid": "74ee9616b156d76319e82a8cbadd649aed6b3fff",
    "id": "HIls73OOukfD"
   },
   "outputs": [],
   "source": [
    "# outlier treatment for area\n",
    "plt.boxplot(housing.area)\n",
    "Q1 = housing.area.quantile(0.25)\n",
    "Q3 = housing.area.quantile(0.75)\n",
    "IQR = Q3 - Q1\n",
    "housing = housing[(housing.area >= Q1 - 1.5*IQR) & (housing.area <= Q3 + 1.5*IQR)]"
   ]
  },
  {
   "cell_type": "code",
   "execution_count": null,
   "metadata": {
    "_uuid": "872f54e4de395aa921844f0b2fae5308a09235ae",
    "id": "DTXdAK1BukfD"
   },
   "outputs": [],
   "source": [
    "# Outlier Analysis\n",
    "fig, axs = plt.subplots(2,3, figsize = (10,5))\n",
    "plt1 = sns.boxplot(housing['price'], ax = axs[0,0])\n",
    "plt2 = sns.boxplot(housing['area'], ax = axs[0,1])\n",
    "plt3 = sns.boxplot(housing['bedrooms'], ax = axs[0,2])\n",
    "plt1 = sns.boxplot(housing['bathrooms'], ax = axs[1,0])\n",
    "plt2 = sns.boxplot(housing['stories'], ax = axs[1,1])\n",
    "plt3 = sns.boxplot(housing['parking'], ax = axs[1,2])\n",
    "\n",
    "plt.tight_layout()"
   ]
  },
  {
   "cell_type": "markdown",
   "metadata": {
    "_uuid": "3f5e53ed935216b121bd7266a515654cf9b82b7e",
    "id": "_7_WUJcUukfE"
   },
   "source": [
    "## Exploratory Data Analytics\n",
    "\n",
    "Let's now spend some time doing what is arguably the most important step - **understanding the data**.\n",
    "- If there is some obvious multicollinearity going on, this is the first place to catch it\n",
    "- Here's where you'll also identify if some predictors directly have a strong association with the outcome variable"
   ]
  },
  {
   "cell_type": "markdown",
   "metadata": {
    "_uuid": "cf330625f5e0fc1c93f752a8ba90bb2079c450b8",
    "id": "Tule91gjukfE"
   },
   "source": [
    "### Visualising Numeric Variables\n",
    "\n",
    "Let's make a pairplot of all the numeric variables"
   ]
  },
  {
   "cell_type": "code",
   "execution_count": null,
   "metadata": {
    "_uuid": "6c7c7195228dbc64fb0bbd2545efc6041bb6024d",
    "id": "SsQFDprfukfE"
   },
   "outputs": [],
   "source": [
    "sns.pairplot(housing)\n",
    "plt.show()"
   ]
  },
  {
   "cell_type": "markdown",
   "metadata": {
    "_uuid": "82de6addf2af16bd82d64432d0a6017042bc7510",
    "id": "Z6cDXzsTukfE"
   },
   "source": [
    "#### Visualising Categorical Variables\n",
    "\n",
    "As you might have noticed, there are a few categorical variables as well. Let's make a boxplot for some of these variables."
   ]
  },
  {
   "cell_type": "code",
   "execution_count": null,
   "metadata": {
    "_uuid": "4c3608492e866165e76eff056ff792bbfd885844",
    "id": "zVz3bkgQukfE"
   },
   "outputs": [],
   "source": [
    "plt.figure(figsize=(20, 12))\n",
    "plt.subplot(2,3,1)\n",
    "sns.boxplot(x = 'mainroad', y = 'price', data = housing)\n",
    "plt.subplot(2,3,2)\n",
    "sns.boxplot(x = 'guestroom', y = 'price', data = housing)\n",
    "plt.subplot(2,3,3)\n",
    "sns.boxplot(x = 'basement', y = 'price', data = housing)\n",
    "plt.subplot(2,3,4)\n",
    "sns.boxplot(x = 'hotwaterheating', y = 'price', data = housing)\n",
    "plt.subplot(2,3,5)\n",
    "sns.boxplot(x = 'airconditioning', y = 'price', data = housing)\n",
    "plt.subplot(2,3,6)\n",
    "sns.boxplot(x = 'furnishingstatus', y = 'price', data = housing)\n",
    "plt.show()"
   ]
  },
  {
   "cell_type": "markdown",
   "metadata": {
    "_uuid": "6c707cb6e33e92c23ce7bc2e33fe6170cb6d8cd1",
    "id": "GjU3CTP8ukfF"
   },
   "source": [
    "We can also visualise some of these categorical features parallely by using the `hue` argument. Below is the plot for `furnishingstatus` with `airconditioning` as the hue."
   ]
  },
  {
   "cell_type": "code",
   "execution_count": null,
   "metadata": {
    "_uuid": "437223279fb56d4c9c3b5905f0f2ed0f0fd69577",
    "id": "mjqMcaE4ukfF"
   },
   "outputs": [],
   "source": [
    "plt.figure(figsize = (10, 5))\n",
    "sns.boxplot(x = 'furnishingstatus', y = 'price', hue = 'airconditioning', data = housing)\n",
    "plt.show()"
   ]
  },
  {
   "cell_type": "markdown",
   "metadata": {
    "_uuid": "d9889ec8b63eadf25022ac9b928ea02e608e683e",
    "id": "j5h6BrsqukfF"
   },
   "source": [
    "## Data Preparation"
   ]
  },
  {
   "cell_type": "markdown",
   "metadata": {
    "_uuid": "33f46d3bce47c43f1f26910e4c5c95baa7891c0c",
    "id": "BsRZXmQkukfF"
   },
   "source": [
    "- You can see that your dataset has many columns with values as 'Yes' or 'No'.\n",
    "\n",
    "- But in order to fit a regression line, we would need numerical values and not string. Hence, we need to convert them to 1s and 0s, where 1 is a 'Yes' and 0 is a 'No'."
   ]
  },
  {
   "cell_type": "code",
   "execution_count": null,
   "metadata": {
    "_uuid": "ffa2c206d63c0bbe25355bdbc6b4ff7a78721c20",
    "id": "sDUaxqLYukfG"
   },
   "outputs": [],
   "source": [
    "# List of variables to map\n",
    "\n",
    "varlist =  ['mainroad', 'guestroom', 'basement', 'hotwaterheating', 'airconditioning', 'prefarea']\n",
    "\n",
    "# Defining the map function\n",
    "def binary_map(x):\n",
    "    return x.map({'yes': 1, \"no\": 0})\n",
    "\n",
    "# Applying the function to the housing list\n",
    "housing[varlist] = housing[varlist].apply(binary_map)"
   ]
  },
  {
   "cell_type": "code",
   "execution_count": null,
   "metadata": {
    "_uuid": "d754048ba7fe30841f92073ea8b59d7fcad4a6ce",
    "id": "QoSDUBskukfG"
   },
   "outputs": [],
   "source": [
    "# Check the housing dataframe now\n",
    "\n",
    "housing.head()"
   ]
  },
  {
   "cell_type": "markdown",
   "metadata": {
    "_uuid": "a0f8c8376ce5a8d6d8c1c783ec9f7a0e627eeefc",
    "id": "UPO2g341ukfG"
   },
   "source": [
    "### Dummy Variables"
   ]
  },
  {
   "cell_type": "markdown",
   "metadata": {
    "_uuid": "5100d00d83ce73a66afc490280dc00d852cc2f92",
    "id": "ZnOasZQ4ukfG"
   },
   "source": [
    "The variable `furnishingstatus` has three levels. We need to convert these levels into integer as well.\n",
    "\n",
    "For this, we will use something called `dummy variables`."
   ]
  },
  {
   "cell_type": "code",
   "execution_count": null,
   "metadata": {
    "_uuid": "e57564544b89f851ca2536d5d0cf8f71b7d2f8af",
    "id": "rmWHgI6ZukfH"
   },
   "outputs": [],
   "source": [
    "# Get the dummy variables for the feature 'furnishingstatus' and store it in a new variable - 'status'\n",
    "status = pd.get_dummies(housing['furnishingstatus'])"
   ]
  },
  {
   "cell_type": "code",
   "execution_count": null,
   "metadata": {
    "_uuid": "3cb5808e2eb979d654827bc727ba28fffcfc5bd6",
    "id": "PX7BWkECukfH"
   },
   "outputs": [],
   "source": [
    "# Check what the dataset 'status' looks like\n",
    "status.head()"
   ]
  },
  {
   "cell_type": "markdown",
   "metadata": {
    "_uuid": "87964c68f0849db142b2a0178949ab4ee5dad8a5",
    "id": "PUTMy6hEukfI"
   },
   "source": [
    "Now, you don't need three columns. You can drop the `furnished` column, as the type of furnishing can be identified with just the last two columns where —\n",
    "- `00` will correspond to `furnished`\n",
    "- `01` will correspond to `unfurnished`\n",
    "- `10` will correspond to `semi-furnished`"
   ]
  },
  {
   "cell_type": "code",
   "execution_count": null,
   "metadata": {
    "_uuid": "2e64521e0eb959791a7e867dec83c6f2a0b5ba38",
    "id": "DIfSCqHxukfI"
   },
   "outputs": [],
   "source": [
    "# Let's drop the first column from status df using 'drop_first = True'\n",
    "\n",
    "status = pd.get_dummies(housing['furnishingstatus'], drop_first = True)"
   ]
  },
  {
   "cell_type": "code",
   "execution_count": null,
   "metadata": {
    "_uuid": "1b9198d2b8e96ae31ee346058d91d293e2826e14",
    "id": "2KFtBV98ukfI"
   },
   "outputs": [],
   "source": [
    "# Add the results to the original housing dataframe\n",
    "\n",
    "housing = pd.concat([housing, status], axis = 1)"
   ]
  },
  {
   "cell_type": "code",
   "execution_count": null,
   "metadata": {
    "_uuid": "202e9fe9bc947dd1ed20afe6a1dfdd3a1a91ed96",
    "id": "Y5mDJBumukfI"
   },
   "outputs": [],
   "source": [
    "# Now let's see the head of our dataframe.\n",
    "\n",
    "housing.head()"
   ]
  },
  {
   "cell_type": "code",
   "execution_count": null,
   "metadata": {
    "_uuid": "30d3b04cf9943a6ae45c51d0a4d897dc4a014bf6",
    "id": "HmSz8vZFukfJ"
   },
   "outputs": [],
   "source": [
    "# Drop 'furnishingstatus' as we have created the dummies for it\n",
    "\n",
    "housing.drop(['furnishingstatus'], axis = 1, inplace = True)"
   ]
  },
  {
   "cell_type": "code",
   "execution_count": null,
   "metadata": {
    "_uuid": "6387630eca0184a51e3f1ff784dee84fa54bb109",
    "id": "pvbwaaLBukfJ"
   },
   "outputs": [],
   "source": [
    "housing.head()"
   ]
  },
  {
   "cell_type": "markdown",
   "metadata": {
    "_uuid": "837091e7d8ac08f881d1d1b6ed57ec6d1e806165",
    "id": "rDnoa7AnukfR"
   },
   "source": [
    "### Splitting the Data into Training and Testing Sets"
   ]
  },
  {
   "cell_type": "code",
   "execution_count": null,
   "metadata": {
    "_uuid": "5449ca9587bd949ebc3cc166122fcf733b8eb2f9",
    "id": "ct3Bb-MtukfR"
   },
   "outputs": [],
   "source": [
    "from sklearn.model_selection import train_test_split\n",
    "\n",
    "# We specify this so that the train and test data set always have the same rows, respectively\n",
    "np.random.seed(0)\n",
    "df_train, df_test = train_test_split(housing, train_size = 0.7, test_size = 0.3, random_state = 100)"
   ]
  },
  {
   "cell_type": "markdown",
   "metadata": {
    "_uuid": "0e6c366f2979dc9f6cfa6a0b46dba9a585be18a8",
    "id": "4ZxXmhexukfS"
   },
   "source": [
    "### Rescaling the Features\n",
    "\n",
    "As you saw in the demonstration for Simple Linear Regression, scaling doesn't impact your model. Here we can see that except for `area`, all the columns have small integer values. So it is extremely important to rescale the variables so that they have a comparable scale. If we don't have comparable scales, then some of the coefficients as obtained by fitting the regression model might be very large or very small as compared to the other coefficients. This might become very annoying at the time of model evaluation. So it is advised to use standardization or normalization so that the units of the coefficients obtained are all on the same scale. As you know, there are two common ways of rescaling:\n",
    "\n",
    "1. Min-Max scaling\n",
    "2. Standardisation (mean-0, sigma-1)\n",
    "\n",
    "This time, we will use MinMax scaling."
   ]
  },
  {
   "cell_type": "code",
   "execution_count": null,
   "metadata": {
    "_uuid": "facade72a50104e04437fd7bd7191a23713fc8ea",
    "id": "xOYzeWASukfS"
   },
   "outputs": [],
   "source": [
    "from sklearn.preprocessing import MinMaxScaler"
   ]
  },
  {
   "cell_type": "code",
   "execution_count": null,
   "metadata": {
    "_uuid": "3f4c69929aaf26f7aee879139814b027eae01798",
    "id": "kqoqSz94ukfS"
   },
   "outputs": [],
   "source": [
    "scaler = MinMaxScaler()"
   ]
  },
  {
   "cell_type": "code",
   "execution_count": null,
   "metadata": {
    "_uuid": "91c50ab11758f9e3a7905fd689641f8f003860c8",
    "id": "Mx7KZlajukfS"
   },
   "outputs": [],
   "source": [
    "# Apply scaler() to all the columns except the 'yes-no' and 'dummy' variables\n",
    "num_vars = ['area', 'bedrooms', 'bathrooms', 'stories', 'parking','price']\n",
    "\n",
    "df_train[num_vars] = scaler.fit_transform(df_train[num_vars])"
   ]
  },
  {
   "cell_type": "code",
   "execution_count": null,
   "metadata": {
    "_uuid": "80202e0393e84a01949522f8809bce181a08d84a",
    "id": "feLpKH5kukfS"
   },
   "outputs": [],
   "source": [
    "df_train.head()"
   ]
  },
  {
   "cell_type": "code",
   "execution_count": null,
   "metadata": {
    "_uuid": "0578a4dfe42b2b1a741e847e00b6bdcc5323156e",
    "id": "8t_1lnXPukfT"
   },
   "outputs": [],
   "source": [
    "df_train.describe()"
   ]
  },
  {
   "cell_type": "code",
   "execution_count": null,
   "metadata": {
    "_uuid": "daad7f09168cddb4272fd0f10395aac2cc2cecf2",
    "id": "LHxCgHHTukfT"
   },
   "outputs": [],
   "source": [
    "# Let's check the correlation coefficients to see which variables are highly correlated\n",
    "\n",
    "plt.figure(figsize = (16, 10))\n",
    "sns.heatmap(df_train.corr(), annot = True, cmap=\"YlGnBu\")\n",
    "plt.show()"
   ]
  },
  {
   "cell_type": "markdown",
   "metadata": {
    "_uuid": "262156ecb629391512238b83b03a89c8ebdb504f",
    "id": "p4Ev52rJukfT"
   },
   "source": [
    "As you might have noticed, `area` seems to the correlated to `price` the most. Let's see a pairplot for `area` vs `price`."
   ]
  },
  {
   "cell_type": "markdown",
   "metadata": {
    "_uuid": "8b7a573b3de7738aca7829dbf4c1b41fa666d47e",
    "id": "gbUI7N5hukfT"
   },
   "source": [
    "### Dividing into X and Y sets for the model building"
   ]
  },
  {
   "cell_type": "code",
   "execution_count": null,
   "metadata": {
    "_uuid": "8d461aa6a96a85e680fa73c706d0e440c9147322",
    "id": "Rp0TIBrJukfT"
   },
   "outputs": [],
   "source": [
    "y_train = df_train.pop('price')\n",
    "X_train = df_train"
   ]
  },
  {
   "cell_type": "markdown",
   "metadata": {
    "_uuid": "cde8d33f5a71cab0d31cccd80c91542783fb7090",
    "id": "E8HmVTpzukfU"
   },
   "source": [
    "## Model Building"
   ]
  },
  {
   "cell_type": "markdown",
   "metadata": {
    "_uuid": "fdfe691aa611e8138f3b157273139777bd2b11f8",
    "id": "Mny3OtrSukfU"
   },
   "source": [
    "This time, we will be using the **LinearRegression function from SciKit Learn** for its compatibility with RFE (which is a utility from sklearn)"
   ]
  },
  {
   "cell_type": "markdown",
   "metadata": {
    "_uuid": "1c8b65d8f5bdb8fffd1312bd8fe765f62e18e5f0",
    "id": "cw7dDNSGukfU"
   },
   "source": [
    "### RFE"
   ]
  },
  {
   "cell_type": "markdown",
   "metadata": {
    "_uuid": "1fd1e50c0155a1a90fc55fcfa3a6046c9fd61485",
    "id": "0-isRB_uukfV"
   },
   "source": [
    "Recursive feature elimination"
   ]
  },
  {
   "cell_type": "code",
   "execution_count": null,
   "metadata": {
    "_uuid": "15f69354ac60bbc21b8765f713c6bac720909a69",
    "id": "XvwHtyhgukfV"
   },
   "outputs": [],
   "source": [
    "# Importing RFE and LinearRegression\n",
    "from sklearn.feature_selection import RFE\n",
    "from sklearn.linear_model import LinearRegression"
   ]
  },
  {
   "cell_type": "code",
   "execution_count": null,
   "metadata": {
    "_uuid": "0855894d7a3314cdc687f1e6071b9561bd42a8bd",
    "id": "NmpxxXN1ukfV"
   },
   "outputs": [],
   "source": [
    "# Running RFE with the output number of the variable equal to 10\n",
    "lm = LinearRegression()\n",
    "lm.fit(X_train, y_train)"
   ]
  },
  {
   "cell_type": "code",
   "execution_count": null,
   "metadata": {
    "_uuid": "b90e694cc030855fad26f5254a3b6b2115ecfb72",
    "id": "-yLgOHGVukfV"
   },
   "outputs": [],
   "source": [
    "rfe = RFE(lm, 6)             # running RFE\n",
    "rfe = rfe.fit(X_train, y_train)"
   ]
  },
  {
   "cell_type": "code",
   "execution_count": null,
   "metadata": {
    "_uuid": "35bcd6f28ff5e9e597cc0c9bbdda32460f6f7d3d",
    "id": "5_zZ8RTFukfW"
   },
   "outputs": [],
   "source": [
    "list(zip(X_train.columns,rfe.support_,rfe.ranking_))"
   ]
  },
  {
   "cell_type": "code",
   "execution_count": null,
   "metadata": {
    "_uuid": "0e0c0316b3e26b0cb0a0dfa047364b5db008d172",
    "id": "siWExOj6ukfW"
   },
   "outputs": [],
   "source": [
    "col = X_train.columns[rfe.support_]\n",
    "col"
   ]
  },
  {
   "cell_type": "code",
   "execution_count": null,
   "metadata": {
    "_uuid": "6ed23a57c9d3fd16c47987c9efc868cb26e46f7f",
    "id": "nxIV5PW6ukfW"
   },
   "outputs": [],
   "source": [
    "X_train.columns[~rfe.support_]"
   ]
  },
  {
   "cell_type": "markdown",
   "metadata": {
    "_uuid": "9dd20434f604066af48b392196e3c3fa98a1444e",
    "id": "TbKhVv37ukfW"
   },
   "source": [
    "### Building model using statsmodel, for the detailed statistics"
   ]
  },
  {
   "cell_type": "code",
   "execution_count": null,
   "metadata": {
    "_uuid": "9a0392e0e603fc5be49e59cc6cf9c49b22fd6636",
    "id": "jogderoYukfX"
   },
   "outputs": [],
   "source": [
    "# Creating X_test dataframe with RFE selected variables\n",
    "X_train_rfe = X_train[col]"
   ]
  },
  {
   "cell_type": "code",
   "execution_count": null,
   "metadata": {
    "_uuid": "e97c23ab5f5c3cadbdc003bb0ae6516b80ee8eec",
    "id": "0sFTze3rukfX"
   },
   "outputs": [],
   "source": [
    "# Adding a constant variable\n",
    "import statsmodels.api as sm\n",
    "X_train_rfe = sm.add_constant(X_train_rfe)"
   ]
  },
  {
   "cell_type": "code",
   "execution_count": null,
   "metadata": {
    "_uuid": "8ad33909ce0fe7cbadc46d09ab8d32cad45f9e4a",
    "id": "e8lmYLEyukfX"
   },
   "outputs": [],
   "source": [
    "lm = sm.OLS(y_train,X_train_rfe).fit()   # Running the linear model"
   ]
  },
  {
   "cell_type": "code",
   "execution_count": null,
   "metadata": {
    "_uuid": "f117337580f3eaf3e3bd6b3e8947d023499f56c7",
    "id": "5yQovBBfukfX"
   },
   "outputs": [],
   "source": [
    "#Let's see the summary of our linear model\n",
    "print(lm.summary())"
   ]
  },
  {
   "cell_type": "code",
   "execution_count": null,
   "metadata": {
    "_uuid": "e311b4572715c8c90511b0b67d63618933ee003b",
    "id": "hsllIJbVukfY"
   },
   "outputs": [],
   "source": [
    "# Calculate the VIFs for the model\n",
    "from statsmodels.stats.outliers_influence import variance_inflation_factor"
   ]
  },
  {
   "cell_type": "code",
   "execution_count": null,
   "metadata": {
    "_uuid": "77684badbfb8b6d35a1af6a7f6e6a90f694b9cde",
    "id": "wOJe1U9FukfY"
   },
   "outputs": [],
   "source": [
    "vif = pd.DataFrame()\n",
    "X = X_train_rfe\n",
    "vif['Features'] = X.columns\n",
    "vif['VIF'] = [variance_inflation_factor(X.values, i) for i in range(X.shape[1])]\n",
    "vif['VIF'] = round(vif['VIF'], 2)\n",
    "vif = vif.sort_values(by = \"VIF\", ascending = False)\n",
    "vif"
   ]
  },
  {
   "cell_type": "markdown",
   "metadata": {
    "_uuid": "929bfe56bbc1c23f9c4069acce30593044af093d",
    "id": "Gw4ZWhFnukfY"
   },
   "source": [
    "## Residual Analysis of the train data"
   ]
  },
  {
   "cell_type": "markdown",
   "metadata": {
    "_uuid": "848c69f31ac4b52bf81ce2f4fdafbf9b4b4fba37",
    "id": "o4U-DikkukfY"
   },
   "source": [
    "So, now to check if the error terms are also normally distributed (which is infact, one of the major assumptions of linear regression), let us plot the histogram of the error terms and see what it looks like."
   ]
  },
  {
   "cell_type": "code",
   "execution_count": null,
   "metadata": {
    "_uuid": "ea322f903d893af55c8ce74af23ad9da69297296",
    "id": "lgLoe-JvukfY"
   },
   "outputs": [],
   "source": [
    "y_train_price = lm.predict(X_train_rfe)"
   ]
  },
  {
   "cell_type": "code",
   "execution_count": null,
   "metadata": {
    "_uuid": "0dfe7cfd174b675cc86f03f19cebf5c3aee750b7",
    "id": "tOQsduc3ukfZ"
   },
   "outputs": [],
   "source": [
    "res = (y_train_price - y_train)"
   ]
  },
  {
   "cell_type": "code",
   "execution_count": null,
   "metadata": {
    "_uuid": "ab7df18b1e1e01bb58d7d5322b9be3429ca58ae1",
    "id": "Tin5PVErukfZ"
   },
   "outputs": [],
   "source": [
    "# Importing the required libraries for plots.\n",
    "import matplotlib.pyplot as plt\n",
    "import seaborn as sns\n",
    "%matplotlib inline"
   ]
  },
  {
   "cell_type": "code",
   "execution_count": null,
   "metadata": {
    "_uuid": "6c88bec7ff0f3264d1fcfdce138b657fbc87732a",
    "id": "9OixatPQukfZ",
    "scrolled": true
   },
   "outputs": [],
   "source": [
    "# Plot the histogram of the error terms\n",
    "fig = plt.figure()\n",
    "sns.distplot((y_train - y_train_price), bins = 20)\n",
    "fig.suptitle('Error Terms', fontsize = 20)                  # Plot heading\n",
    "plt.xlabel('Errors', fontsize = 18)                         # X-label"
   ]
  },
  {
   "cell_type": "code",
   "execution_count": null,
   "metadata": {
    "_uuid": "fc5970cce08cf1588b50049536ed59add70ab46e",
    "id": "M7b9ZGh4ukfZ"
   },
   "outputs": [],
   "source": [
    "plt.scatter(y_train,res)\n",
    "plt.show()"
   ]
  },
  {
   "cell_type": "code",
   "execution_count": null,
   "metadata": {
    "_uuid": "833b7f1da0f80b0f5b8e8acd8c1c58ae672a25e3",
    "id": "XB3iiDm0ukfa"
   },
   "outputs": [],
   "source": [
    "# There may be some relation in the error terms."
   ]
  },
  {
   "cell_type": "markdown",
   "metadata": {
    "_uuid": "6ab0d38a9e8f4e1ac3522265272378670317e2a0",
    "id": "-0-QbJhsukfa"
   },
   "source": [
    "## Model Evaluation"
   ]
  },
  {
   "cell_type": "markdown",
   "metadata": {
    "_uuid": "45b3cacf9af65798f6aa2043c9938ac7be66cc2d",
    "id": "gLk5S5qFukfa"
   },
   "source": [
    "#### Applying the scaling on the test sets"
   ]
  },
  {
   "cell_type": "code",
   "execution_count": null,
   "metadata": {
    "_uuid": "18dc79e154426089b57bc592cbf9c7c9d4f9f925",
    "id": "B-0aLxm7ukfa"
   },
   "outputs": [],
   "source": [
    "num_vars = ['area','stories', 'bathrooms', 'airconditioning', 'prefarea','parking','price']"
   ]
  },
  {
   "cell_type": "code",
   "execution_count": null,
   "metadata": {
    "_uuid": "369940e6dcf9b0a2e37418d68b0b03474c2a23df",
    "id": "CMkDhjDWukfb"
   },
   "outputs": [],
   "source": [
    "df_test[num_vars] = scaler.fit_transform(df_test[num_vars])"
   ]
  },
  {
   "cell_type": "markdown",
   "metadata": {
    "_uuid": "a4878645a8b2dea09fef010e81dc3ad1f5024aa6",
    "id": "ZDcmvqyXukfb"
   },
   "source": [
    "#### Dividing into X_test and y_test"
   ]
  },
  {
   "cell_type": "code",
   "execution_count": null,
   "metadata": {
    "_uuid": "7374561e97f330101662ada491c40ea47addd7cc",
    "id": "9dtBhUtgukfb"
   },
   "outputs": [],
   "source": [
    "y_test = df_test.pop('price')\n",
    "X_test = df_test"
   ]
  },
  {
   "cell_type": "code",
   "execution_count": null,
   "metadata": {
    "_uuid": "1d36fa795be13df3abd528745d2003f15165793e",
    "id": "eR1duToMukfb"
   },
   "outputs": [],
   "source": [
    "# Adding constant variable to test dataframe\n",
    "X_test = sm.add_constant(X_test)"
   ]
  },
  {
   "cell_type": "code",
   "execution_count": null,
   "metadata": {
    "_uuid": "2adbc1f44001b942ed5110e4323e8cf00c7ea139",
    "id": "aJ9SNBReukfc"
   },
   "outputs": [],
   "source": [
    "# Now let's use our model to make predictions."
   ]
  },
  {
   "cell_type": "code",
   "execution_count": null,
   "metadata": {
    "_uuid": "cf0bfd37ba6988b7bbf450bdf9ea7072d0fe0e10",
    "id": "tjp-sdbpukfc"
   },
   "outputs": [],
   "source": [
    "# Creating X_test_new dataframe by dropping variables from X_test\n",
    "X_test_rfe = X_test[X_train_rfe.columns]"
   ]
  },
  {
   "cell_type": "code",
   "execution_count": null,
   "metadata": {
    "_uuid": "a7273e142e5a42104f7b5a0fff4ace465f7ea0b3",
    "id": "cmYIV6VWukfc"
   },
   "outputs": [],
   "source": [
    "# Making predictions\n",
    "y_pred = lm.predict(X_test_rfe)"
   ]
  },
  {
   "cell_type": "code",
   "execution_count": null,
   "metadata": {
    "_uuid": "9b8d11e9ed91c84d950ee8584cbd747cfb189457",
    "id": "dwITZHP4ukfc"
   },
   "outputs": [],
   "source": [
    "from sklearn.metrics import r2_score\n",
    "r2_score(y_test, y_pred)"
   ]
  },
  {
   "cell_type": "code",
   "execution_count": null,
   "metadata": {
    "_uuid": "22f7ec00c2e3bfe9d8c00f38dd94fc17e4efe389",
    "id": "CREt6Cfgukfd"
   },
   "outputs": [],
   "source": [
    "# Plotting y_test and y_pred to understand the spread.\n",
    "fig = plt.figure()\n",
    "plt.scatter(y_test,y_pred)\n",
    "fig.suptitle('y_test vs y_pred', fontsize=20)              # Plot heading\n",
    "plt.xlabel('y_test', fontsize=18)                          # X-label\n",
    "plt.ylabel('y_pred', fontsize=16)                          # Y-label"
   ]
  },
  {
   "cell_type": "markdown",
   "metadata": {
    "_uuid": "e3ca975a2eef6d3706f69042c0f07f459b7b0459",
    "id": "JhDrCAyYukfd"
   },
   "source": [
    "\n",
    "We can see that the equation of our best fitted line is:\n",
    "\n",
    "$ price = 0.35  \\times  area + 0.20  \\times  bathrooms + 0.19 \\times stories+ 0.10 \\times airconditioning + 0.10 \\times parking + 0.11 \\times prefarea $\n"
   ]
  }
 ],
 "metadata": {
  "colab": {
   "name": "Housing Price Prediction ( Linear Regression )",
   "provenance": []
  },
  "kernelspec": {
   "display_name": "Python 3 (ipykernel)",
   "language": "python",
   "name": "python3"
  },
  "language_info": {
   "codemirror_mode": {
    "name": "ipython",
    "version": 3
   },
   "file_extension": ".py",
   "mimetype": "text/x-python",
   "name": "python",
   "nbconvert_exporter": "python",
   "pygments_lexer": "ipython3",
   "version": "3.12.7"
  }
 },
 "nbformat": 4,
 "nbformat_minor": 4
}
